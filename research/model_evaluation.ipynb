{
 "cells": [
  {
   "cell_type": "code",
   "execution_count": 1,
   "id": "456c7b9f",
   "metadata": {},
   "outputs": [],
   "source": [
    "# https://dagshub.com/kanishka-rani-2005/RenalTumor.mlflow"
   ]
  },
  {
   "cell_type": "code",
   "execution_count": 2,
   "id": "37ef8ad1",
   "metadata": {},
   "outputs": [],
   "source": [
    "# import dagshub\n",
    "# dagshub.init(repo_owner='kanishka-rani-2005', repo_name='RenalTumor', mlflow=True)\n",
    "\n",
    "# import mlflow\n",
    "# with mlflow.start_run():\n",
    "#   mlflow.log_param('parameter name', 'value')\n",
    "#   mlflow.log_metric('metric name', 1)"
   ]
  },
  {
   "cell_type": "code",
   "execution_count": 3,
   "id": "0a9d91ec",
   "metadata": {},
   "outputs": [
    {
     "data": {
      "text/plain": [
       "'e:\\\\RenalTumor\\\\research'"
      ]
     },
     "execution_count": 3,
     "metadata": {},
     "output_type": "execute_result"
    }
   ],
   "source": [
    "import os\n",
    "%pwd\n"
   ]
  },
  {
   "cell_type": "code",
   "execution_count": 4,
   "id": "05cf2127",
   "metadata": {},
   "outputs": [
    {
     "data": {
      "text/plain": [
       "'e:\\\\RenalTumor'"
      ]
     },
     "execution_count": 4,
     "metadata": {},
     "output_type": "execute_result"
    }
   ],
   "source": [
    "os.chdir('../')\n",
    "%pwd"
   ]
  },
  {
   "cell_type": "code",
   "execution_count": 5,
   "id": "f9ab4856",
   "metadata": {},
   "outputs": [],
   "source": [
    "os.environ['MLFLOW_TRACKING_URI'] = 'https://dagshub.com/kanishka-rani-2005/RenalTumor.mlflow'\n",
    "os.environ['MLFLOW_TRACKING_USERNAME'] = 'kanishka-rani-2005'\n",
    "os.environ['MLFLOW_TRACKING_PASSWORD']='98da3ea8cf84b05159cc637c7414edb3af83bbe0'"
   ]
  },
  {
   "cell_type": "code",
   "execution_count": 6,
   "id": "d110589d",
   "metadata": {},
   "outputs": [],
   "source": [
    "import tensorflow as tf\n",
    "model=tf.keras.models.load_model('artifacts\\\\training\\\\model.keras')\n"
   ]
  },
  {
   "cell_type": "code",
   "execution_count": 7,
   "id": "74961666",
   "metadata": {},
   "outputs": [],
   "source": [
    "from dataclasses import dataclass\n",
    "from pathlib import Path\n",
    "\n",
    "@dataclass(frozen=True)\n",
    "class EvaluationConfig:\n",
    "    path_of_model:Path\n",
    "    training_data:Path\n",
    "    all_params:dict\n",
    "    mlflow_url:str\n",
    "    params_image_size:list\n",
    "    params_batch_size:int"
   ]
  },
  {
   "cell_type": "code",
   "execution_count": 8,
   "id": "8019f175",
   "metadata": {},
   "outputs": [],
   "source": [
    "from src.KidneyDiseaseClassifier.constants import *\n",
    "from src.KidneyDiseaseClassifier.utils.common import read_yaml, create_directories ,save_json\n",
    "\n"
   ]
  },
  {
   "cell_type": "code",
   "execution_count": 9,
   "id": "b17c616a",
   "metadata": {},
   "outputs": [],
   "source": [
    "class ConfigurationManager:\n",
    "    def __init__(self,config_filepath = CONFIG_FILE_PATH,params_filepath = PARAMS_FILE_PATH):\n",
    "            self.config=read_yaml(config_filepath)\n",
    "            self.params=read_yaml(params_filepath)\n",
    "            create_directories([self.config.artifacts_root])\n",
    "\n",
    "\n",
    "    def get_evaluation_config(self) -> EvaluationConfig:\n",
    "        eval_config = EvaluationConfig(\n",
    "            path_of_model='artifacts/training/model.keras',\n",
    "            training_data='artifacts/data_ingestion/CT-KIDNEY-DATASET-Normal-Cyst-Tumor-Stone/CT-KIDNEY-DATASET-Normal-Cyst-Tumor-Stone',\n",
    "            all_params=self.params, \n",
    "            mlflow_url='https://dagshub.com/kanishka-rani-2005/RenalTumor.mlflow',\n",
    "            params_image_size=self.params.IMAGE_SIZE,\n",
    "            params_batch_size=self.params.BATCH_SIZE \n",
    "        )\n",
    "        return eval_config"
   ]
  },
  {
   "cell_type": "code",
   "execution_count": 10,
   "id": "bcc5bf2f",
   "metadata": {},
   "outputs": [
    {
     "name": "stderr",
     "output_type": "stream",
     "text": [
      "e:\\RenalTumor\\venv\\Lib\\site-packages\\mlflow\\utils\\requirements_utils.py:12: UserWarning: pkg_resources is deprecated as an API. See https://setuptools.pypa.io/en/latest/pkg_resources.html. The pkg_resources package is slated for removal as early as 2025-11-30. Refrain from using this package or pin to Setuptools<81.\n",
      "  import pkg_resources\n"
     ]
    }
   ],
   "source": [
    "import tensorflow as tf\n",
    "import mlflow\n",
    "import mlflow.keras\n",
    "from urllib.parse import urlparse\n",
    "from pathlib import Path"
   ]
  },
  {
   "cell_type": "code",
   "execution_count": null,
   "id": "54da2a4b",
   "metadata": {},
   "outputs": [],
   "source": [
    "class Evaluation:\n",
    "    def __init__(self,config:EvaluationConfig):\n",
    "        self.config=config\n",
    "    def train_valid_generator(self):\n",
    "        datagenerator_kwargs = dict(\n",
    "            rescale=1./255,\n",
    "            validation_split=0.20\n",
    "        )\n",
    "\n",
    "        dataflow_kwargs = dict(\n",
    "            target_size=self.config.params_image_size[:-1],\n",
    "            batch_size=self.config.params_batch_size,\n",
    "            class_mode='categorical'\n",
    "        )\n",
    "\n",
    "        valid_datagenerator = tf.keras.preprocessing.image.ImageDataGenerator(**datagenerator_kwargs)\n",
    "        self.valid_generator = valid_datagenerator.flow_from_directory(\n",
    "            directory=self.config.training_data,\n",
    "            subset=\"validation\",\n",
    "            shuffle=False,\n",
    "            **dataflow_kwargs\n",
    "        )\n",
    "    @staticmethod\n",
    "    def load_model(path:Path)->tf.keras.Model:\n",
    "        return tf.keras.models.load_model(path)\n",
    "    \n",
    "\n",
    "    def evaluation(self):\n",
    "        self.model=self.load_model(self.config.path_of_model)\n",
    "        self.train_valid_generator()\n",
    "        self.score=self.model.evaluate(self.valid_generator)\n",
    "        self.save_score()\n",
    "        self.model.save(\"model.keras\")\n",
    "\n",
    "    \n",
    "    def save_score(self):\n",
    "        scores={'loss': self.score[0], 'accuracy':self.score[1]}\n",
    "        save_json(path=Path(\"scores.json\"),data=scores)\n",
    "\n",
    "    def log_into_mlflow(self):\n",
    "        mlflow.set_registry_uri(self.config.mlflow_url)\n",
    "        tracking_url_type_score=urlparse(mlflow.get_tracking_uri()).scheme\n",
    "\n",
    "        with mlflow.start_run():\n",
    "            mlflow.log_params(self.config.all_params)\n",
    "            mlflow.log_metrics(\n",
    "                {\n",
    "                    'loss':self.score[0],\n",
    "                    'accuracy':self.score[1]\n",
    "                }\n",
    "            )\n",
    "            if tracking_url_type_score != 'file':\n",
    "            # Log the single model.keras file\n",
    "                mlflow.log_artifact(\"model.keras\", artifact_path=\"model\")\n",
    "            else:\n",
    "                mlflow.log_artifact(\"model.keras\", artifact_path=\"model\")"
   ]
  },
  {
   "cell_type": "code",
   "execution_count": 12,
   "id": "58893255",
   "metadata": {},
   "outputs": [
    {
     "name": "stdout",
     "output_type": "stream",
     "text": [
      "[Fri, 04 Jul 2025 20:14:12: INFO: common: Loading Yaml file succesfully.]\n",
      "[Fri, 04 Jul 2025 20:14:12: INFO: common: Loading Yaml file succesfully.]\n",
      "[Fri, 04 Jul 2025 20:14:12: INFO: common: Directory created at: artifacts]\n",
      "Found 2487 images belonging to 4 classes.\n"
     ]
    },
    {
     "name": "stderr",
     "output_type": "stream",
     "text": [
      "e:\\RenalTumor\\venv\\Lib\\site-packages\\keras\\src\\trainers\\data_adapters\\py_dataset_adapter.py:121: UserWarning: Your `PyDataset` class should call `super().__init__(**kwargs)` in its constructor. `**kwargs` can include `workers`, `use_multiprocessing`, `max_queue_size`. Do not pass these arguments to `fit()`, as they will be ignored.\n",
      "  self._warn_if_super_not_called()\n"
     ]
    },
    {
     "name": "stdout",
     "output_type": "stream",
     "text": [
      "\u001b[1m78/78\u001b[0m \u001b[32m━━━━━━━━━━━━━━━━━━━━\u001b[0m\u001b[37m\u001b[0m \u001b[1m233s\u001b[0m 3s/step - accuracy: 0.6282 - loss: 5.9766\n",
      "[Fri, 04 Jul 2025 20:18:06: INFO: common: Json file saved at: scores.json]\n",
      "[Fri, 04 Jul 2025 20:18:07: INFO: common: Json file saved at: scores.json]\n",
      "[Fri, 04 Jul 2025 21:03:19: WARNING: connectionpool: Retrying (Retry(total=4, connect=5, read=4, redirect=5, status=5)) after connection broken by 'ConnectionResetError(10054, 'An existing connection was forcibly closed by the remote host')': /kanishka-rani-2005/RenalTumor.mlflow/api/2.0/mlflow-artifacts/artifacts/ec968b1b75bb48548e56182e725c96ea/e109637d21d8490099d36f1f5e2241e8/artifacts/model/model.keras]\n",
      "[Fri, 04 Jul 2025 21:03:23: WARNING: connectionpool: Retrying (Retry(total=3, connect=4, read=4, redirect=5, status=5)) after connection broken by 'NameResolutionError(\"<urllib3.connection.HTTPSConnection object at 0x0000028F03FD4450>: Failed to resolve 'dagshub.com' ([Errno 11001] getaddrinfo failed)\")': /kanishka-rani-2005/RenalTumor.mlflow/api/2.0/mlflow-artifacts/artifacts/ec968b1b75bb48548e56182e725c96ea/e109637d21d8490099d36f1f5e2241e8/artifacts/model/model.keras]\n",
      "[Fri, 04 Jul 2025 21:03:31: WARNING: connectionpool: Retrying (Retry(total=2, connect=3, read=4, redirect=5, status=5)) after connection broken by 'NameResolutionError(\"<urllib3.connection.HTTPSConnection object at 0x0000028F7AF415D0>: Failed to resolve 'dagshub.com' ([Errno 11001] getaddrinfo failed)\")': /kanishka-rani-2005/RenalTumor.mlflow/api/2.0/mlflow-artifacts/artifacts/ec968b1b75bb48548e56182e725c96ea/e109637d21d8490099d36f1f5e2241e8/artifacts/model/model.keras]\n",
      "[Fri, 04 Jul 2025 21:04:20: WARNING: connectionpool: Retrying (Retry(total=1, connect=2, read=4, redirect=5, status=5)) after connection broken by 'ConnectTimeoutError(<urllib3.connection.HTTPSConnection object at 0x0000028F7AF40990>, 'Connection to dagshub.com timed out. (connect timeout=120)')': /kanishka-rani-2005/RenalTumor.mlflow/api/2.0/mlflow-artifacts/artifacts/ec968b1b75bb48548e56182e725c96ea/e109637d21d8490099d36f1f5e2241e8/artifacts/model/model.keras]\n",
      "[Fri, 04 Jul 2025 21:05:04: WARNING: connectionpool: Retrying (Retry(total=0, connect=1, read=4, redirect=5, status=5)) after connection broken by 'NameResolutionError(\"<urllib3.connection.HTTPSConnection object at 0x0000028F7AA3FA90>: Failed to resolve 'dagshub.com' ([Errno 11004] getaddrinfo failed)\")': /kanishka-rani-2005/RenalTumor.mlflow/api/2.0/mlflow-artifacts/artifacts/ec968b1b75bb48548e56182e725c96ea/e109637d21d8490099d36f1f5e2241e8/artifacts/model/model.keras]\n"
     ]
    }
   ],
   "source": [
    "try:\n",
    "    config=ConfigurationManager()\n",
    "    eval_config=config.get_evaluation_config()\n",
    "    evaluation=Evaluation(eval_config)\n",
    "    evaluation.evaluation()\n",
    "    evaluation.log_into_mlflow()\n",
    "\n",
    "except Exception as e:\n",
    "    raise e\n"
   ]
  },
  {
   "cell_type": "code",
   "execution_count": null,
   "id": "636648cf",
   "metadata": {},
   "outputs": [],
   "source": []
  }
 ],
 "metadata": {
  "kernelspec": {
   "display_name": "Python 3",
   "language": "python",
   "name": "python3"
  },
  "language_info": {
   "codemirror_mode": {
    "name": "ipython",
    "version": 3
   },
   "file_extension": ".py",
   "mimetype": "text/x-python",
   "name": "python",
   "nbconvert_exporter": "python",
   "pygments_lexer": "ipython3",
   "version": "3.11.13"
  }
 },
 "nbformat": 4,
 "nbformat_minor": 5
}
