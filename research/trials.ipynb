{
 "cells": [
  {
   "cell_type": "markdown",
   "id": "7ae34fcf",
   "metadata": {},
   "source": [
    "## Generate data from Gdrive"
   ]
  },
  {
   "cell_type": "code",
   "execution_count": 5,
   "id": "68a5b1a3",
   "metadata": {},
   "outputs": [],
   "source": [
    "import gdown"
   ]
  },
  {
   "cell_type": "code",
   "execution_count": 6,
   "id": "cc327e6d",
   "metadata": {},
   "outputs": [
    {
     "data": {
      "text/plain": [
       "'1vAoKHay3vqy4VWNcr0sg7Ohgg2z-nGX7'"
      ]
     },
     "execution_count": 6,
     "metadata": {},
     "output_type": "execute_result"
    }
   ],
   "source": [
    "url='https://drive.google.com/file/d/1vAoKHay3vqy4VWNcr0sg7Ohgg2z-nGX7/view?usp=sharing'\n",
    "id=url.split('/')[-2] # get unique id\n",
    "id"
   ]
  },
  {
   "cell_type": "code",
   "execution_count": 7,
   "id": "48f4bfaf",
   "metadata": {},
   "outputs": [
    {
     "name": "stderr",
     "output_type": "stream",
     "text": [
      "Downloading...\n",
      "From (original): https://drive.google.com/uc?/export=download&id=1vAoKHay3vqy4VWNcr0sg7Ohgg2z-nGX7\n",
      "From (redirected): https://drive.google.com/uc?%2Fexport=download&id=1vAoKHay3vqy4VWNcr0sg7Ohgg2z-nGX7&confirm=t&uuid=9877cdb2-756c-4bc0-bbc3-2aebeb9c1b91\n",
      "To: e:\\RenalTumor\\research\\Data.zip\n",
      "100%|██████████| 1.63G/1.63G [01:31<00:00, 17.8MB/s]\n"
     ]
    },
    {
     "data": {
      "text/plain": [
       "'Data.zip'"
      ]
     },
     "execution_count": 7,
     "metadata": {},
     "output_type": "execute_result"
    }
   ],
   "source": [
    "complete_url='https://drive.google.com/uc?/export=download&id='+id\n",
    "\n",
    "gdown.download(complete_url,'Data.zip')"
   ]
  },
  {
   "cell_type": "code",
   "execution_count": null,
   "id": "782939ed",
   "metadata": {},
   "outputs": [],
   "source": []
  },
  {
   "cell_type": "code",
   "execution_count": null,
   "id": "44491a0b",
   "metadata": {},
   "outputs": [],
   "source": []
  },
  {
   "cell_type": "code",
   "execution_count": null,
   "id": "bab5b0c5",
   "metadata": {},
   "outputs": [],
   "source": []
  },
  {
   "cell_type": "code",
   "execution_count": null,
   "metadata": {},
   "outputs": [],
   "source": []
  },
  {
   "cell_type": "code",
   "execution_count": null,
   "metadata": {},
   "outputs": [],
   "source": []
  },
  {
   "cell_type": "code",
   "execution_count": null,
   "metadata": {},
   "outputs": [],
   "source": []
  }
 ],
 "metadata": {
  "kernelspec": {
   "display_name": "Python 3",
   "language": "python",
   "name": "python3"
  },
  "language_info": {
   "codemirror_mode": {
    "name": "ipython",
    "version": 3
   },
   "file_extension": ".py",
   "mimetype": "text/x-python",
   "name": "python",
   "nbconvert_exporter": "python",
   "pygments_lexer": "ipython3",
   "version": "3.11.11"
  }
 },
 "nbformat": 4,
 "nbformat_minor": 5
}
