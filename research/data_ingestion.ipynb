{
 "cells": [
  {
   "cell_type": "markdown",
   "id": "45eabc69",
   "metadata": {},
   "source": [
    "Check directory"
   ]
  },
  {
   "cell_type": "code",
   "execution_count": 2,
   "id": "ccf78a78",
   "metadata": {},
   "outputs": [
    {
     "data": {
      "text/plain": [
       "'e:\\\\RenalTumor\\\\research'"
      ]
     },
     "execution_count": 2,
     "metadata": {},
     "output_type": "execute_result"
    }
   ],
   "source": [
    "import os\n",
    "%pwd"
   ]
  },
  {
   "cell_type": "markdown",
   "id": "ec986f00",
   "metadata": {},
   "source": [
    "Change directory"
   ]
  },
  {
   "cell_type": "code",
   "execution_count": 3,
   "id": "4e66a59f",
   "metadata": {},
   "outputs": [
    {
     "data": {
      "text/plain": [
       "'e:\\\\RenalTumor'"
      ]
     },
     "execution_count": 3,
     "metadata": {},
     "output_type": "execute_result"
    }
   ],
   "source": [
    "os.chdir('../')\n",
    "%pwd"
   ]
  },
  {
   "cell_type": "code",
   "execution_count": 4,
   "id": "037946d4",
   "metadata": {},
   "outputs": [],
   "source": [
    "from dataclasses import dataclass\n",
    "from pathlib import Path\n",
    "\n",
    "\n",
    "@dataclass(frozen=True)\n",
    "class DataIngestionConfig:\n",
    "    root_dir: Path\n",
    "    source_URL: str\n",
    "    local_data_file: Path\n",
    "    unzip_dir: Path"
   ]
  },
  {
   "cell_type": "code",
   "execution_count": 5,
   "id": "bb041b17",
   "metadata": {},
   "outputs": [],
   "source": [
    "from src.KidneyDiseaseClassifier.constants import *\n",
    "from src.KidneyDiseaseClassifier.utils.common import read_yaml,create_directories\n"
   ]
  },
  {
   "cell_type": "code",
   "execution_count": 6,
   "id": "02211562",
   "metadata": {},
   "outputs": [],
   "source": [
    "class ConfigurationManager:\n",
    "    def __init__(\n",
    "            self,\n",
    "            config_filepath=CONFIG_FILE_PATH,\n",
    "            params_filepath=PARAMS_FILE_PATH\n",
    "    ):\n",
    "        self.config=read_yaml(config_filepath)\n",
    "        self.params=read_yaml(params_filepath)\n",
    "        create_directories([self.config.artifacts_root]) #artifacts\n",
    "\n",
    "    def get_data_ingestion_config(self)->DataIngestionConfig:\n",
    "        config=self.config.data_ingestion\n",
    "        create_directories([config.root_dir])\n",
    "        data_ingestion_config=DataIngestionConfig(\n",
    "            root_dir=config.root_dir, #artifacts/data_ingestion\n",
    "            source_URL=config.source_URL,\n",
    "            local_data_file=config.local_data_file, #artifacts/data_ingestion/data.zip\n",
    "            unzip_dir=config.unzip_dir #artifacts/data_ingestion\n",
    "        )\n",
    "\n",
    "\n",
    "        return data_ingestion_config"
   ]
  },
  {
   "cell_type": "code",
   "execution_count": 7,
   "id": "c181948b",
   "metadata": {},
   "outputs": [],
   "source": [
    "import os \n",
    "import zipfile\n",
    "import gdown\n",
    "from src.KidneyDiseaseClassifier import logger\n"
   ]
  },
  {
   "cell_type": "code",
   "execution_count": 8,
   "id": "a3563ca4",
   "metadata": {},
   "outputs": [],
   "source": [
    "class DataIngestion:\n",
    "    def __init__(self,config:DataIngestionConfig):\n",
    "        self.config=config\n",
    "\n",
    "    def download_file(self)->str:\n",
    "        '''Fetch data from url'''\n",
    "        try:\n",
    "            dataset_url=self.config.source_URL\n",
    "            zip_download_dir=self.config.local_data_file\n",
    "            os.makedirs('artifacts/data_ingestion',exist_ok=True)\n",
    "            logger.info(f'Downloading data from {dataset_url} into file{zip_download_dir}')\n",
    "            file_id=dataset_url.split('/')[-2]\n",
    "            prefix='https://drive.google.com/uc?/export=download&id='+file_id\n",
    "\n",
    "            gdown.download(prefix,zip_download_dir)\n",
    "            logger.info(f\"Downloaded data from {dataset_url} into file {zip_download_dir}\")\n",
    "\n",
    "        except Exception as e:\n",
    "            logger.error('Error !! ',e)\n",
    "            raise(e)\n",
    "        \n",
    "    def extract_zip_file(self):\n",
    "        unzip_path=self.config.unzip_dir\n",
    "        os.makedirs(unzip_path,exist_ok=True)\n",
    "        with zipfile.ZipFile(self.config.local_data_file,'r') as zip_ref:\n",
    "            zip_ref.extractall(unzip_path)\n"
   ]
  },
  {
   "cell_type": "code",
   "execution_count": null,
   "id": "ec9b3350",
   "metadata": {},
   "outputs": [
    {
     "name": "stdout",
     "output_type": "stream",
     "text": [
      "[Wed, 02 Jul 2025 23:52:18: INFO: common: Loading Yaml file succesfully.]\n",
      "[Wed, 02 Jul 2025 23:52:18: INFO: common: Loading Yaml file succesfully.]\n",
      "[Wed, 02 Jul 2025 23:52:18: INFO: common: Directory created at: artifacts]\n",
      "[Wed, 02 Jul 2025 23:52:18: INFO: common: Directory created at: artifacts/data_ingestion]\n",
      "[Wed, 02 Jul 2025 23:52:18: INFO: 1442355725: Downloading data from https://drive.google.com/file/d/1vAoKHay3vqy4VWNcr0sg7Ohgg2z-nGX7/view?usp=sharing into fileartifacts/data_ingestion/data.zip]\n"
     ]
    },
    {
     "name": "stderr",
     "output_type": "stream",
     "text": [
      "Downloading...\n",
      "From (original): https://drive.google.com/uc?/export=download&id=1vAoKHay3vqy4VWNcr0sg7Ohgg2z-nGX7\n",
      "From (redirected): https://drive.google.com/uc?%2Fexport=download&id=1vAoKHay3vqy4VWNcr0sg7Ohgg2z-nGX7&confirm=t&uuid=6ebff21c-2428-4599-be81-5f53304b4bd0\n",
      "To: e:\\RenalTumor\\artifacts\\data_ingestion\\data.zip\n",
      "  1%|          | 10.5M/1.63G [01:20<4:53:22, 91.9kB/s]"
     ]
    }
   ],
   "source": [
    "try:\n",
    "    config=ConfigurationManager()\n",
    "    data_ingestion_config=config.get_data_ingestion_config()\n",
    "    data_ingestion=DataIngestion(config=data_ingestion_config)\n",
    "    data_ingestion.download_file()\n",
    "    data_ingestion.extract_zip_file()\n",
    "except Exception as e:\n",
    "    logger.error(f\"ERROR !! {e}\")\n",
    "    raise e"
   ]
  }
 ],
 "metadata": {
  "kernelspec": {
   "display_name": "Python 3",
   "language": "python",
   "name": "python3"
  },
  "language_info": {
   "codemirror_mode": {
    "name": "ipython",
    "version": 3
   },
   "file_extension": ".py",
   "mimetype": "text/x-python",
   "name": "python",
   "nbconvert_exporter": "python",
   "pygments_lexer": "ipython3",
   "version": "3.11.13"
  }
 },
 "nbformat": 4,
 "nbformat_minor": 5
}
