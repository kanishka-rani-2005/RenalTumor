{
 "cells": [
  {
   "cell_type": "code",
   "execution_count": 48,
   "id": "f5fddee2",
   "metadata": {},
   "outputs": [
    {
     "data": {
      "text/plain": [
       "'e:\\\\RenalTumor'"
      ]
     },
     "execution_count": 48,
     "metadata": {},
     "output_type": "execute_result"
    }
   ],
   "source": [
    "import os \n",
    "%pwd"
   ]
  },
  {
   "cell_type": "code",
   "execution_count": 49,
   "id": "ac49330a",
   "metadata": {},
   "outputs": [
    {
     "data": {
      "text/plain": [
       "'e:\\\\RenalTumor'"
      ]
     },
     "execution_count": 49,
     "metadata": {},
     "output_type": "execute_result"
    }
   ],
   "source": [
    "# os.chdir('../')\n",
    "%pwd"
   ]
  },
  {
   "cell_type": "code",
   "execution_count": 50,
   "id": "0bcb9d70",
   "metadata": {},
   "outputs": [],
   "source": [
    "from dataclasses import dataclass\n",
    "from pathlib import Path\n",
    "\n",
    "\n",
    "@dataclass(frozen=True)\n",
    "class TrainingConfig:\n",
    "    root_dir: Path\n",
    "    trained_model_path: Path\n",
    "    updated_base_model_path: Path\n",
    "    training_data: Path\n",
    "    params_epochs: int\n",
    "    params_batch_size: int\n",
    "    params_is_augmentation: bool\n",
    "    params_image_size: list\n",
    "    params_learning_rate: float"
   ]
  },
  {
   "cell_type": "code",
   "execution_count": 51,
   "id": "ff62cc51",
   "metadata": {},
   "outputs": [],
   "source": [
    "from src.KidneyDiseaseClassifier.constants import *\n",
    "from src.KidneyDiseaseClassifier.utils.common import read_yaml,create_directories\n"
   ]
  },
  {
   "cell_type": "code",
   "execution_count": 52,
   "id": "10ff940c",
   "metadata": {},
   "outputs": [],
   "source": [
    "class ConfigurationManager:\n",
    "    def __init__(\n",
    "        self,\n",
    "        config_filepath = CONFIG_FILE_PATH,\n",
    "        params_filepath = PARAMS_FILE_PATH):\n",
    "\n",
    "        self.config = read_yaml(config_filepath)\n",
    "        self.params = read_yaml(params_filepath)\n",
    "\n",
    "        create_directories([self.config.artifacts_root])\n",
    "\n",
    "\n",
    "    \n",
    "    def get_training_config(self) -> TrainingConfig:\n",
    "        training = self.config.training\n",
    "        prepare_base_model = self.config.prepare_base_model\n",
    "        params = self.params\n",
    "        training_data = os.path.join(\n",
    "            self.config.data_ingestion.unzip_dir, \n",
    "            \"CT-KIDNEY-DATASET-Normal-Cyst-Tumor-Stone\",\n",
    "            \"CT-KIDNEY-DATASET-Normal-Cyst-Tumor-Stone\" # <-- Add this second part\n",
    "        )          \n",
    "        create_directories([\n",
    "            Path(training.root_dir)\n",
    "        ])\n",
    "\n",
    "        training_config = TrainingConfig(\n",
    "            root_dir=Path(training.root_dir),\n",
    "            trained_model_path=Path(training.trained_model_path),\n",
    "            updated_base_model_path=Path(prepare_base_model.updated_base_model_path),\n",
    "            training_data=Path(training_data),\n",
    "            params_epochs=params.EPOCHS,\n",
    "            params_batch_size=params.BATCH_SIZE,\n",
    "            params_is_augmentation=params.AUGMENTATION,\n",
    "            params_image_size=params.IMAGE_SIZE,\n",
    "            params_learning_rate=self.params.LEARNING_RATE \n",
    "        )\n",
    "\n",
    "        return training_config"
   ]
  },
  {
   "cell_type": "code",
   "execution_count": 53,
   "id": "e058e58d",
   "metadata": {},
   "outputs": [],
   "source": [
    "# File: .../components/training.py\n",
    "\n",
    "import tensorflow as tf\n",
    "from pathlib import Path\n",
    "\n",
    "tf.config.run_functions_eagerly(True)\n",
    "\n",
    "class Training:\n",
    "    def __init__(self, config: \"TrainingConfig\"):\n",
    "        self.config = config\n",
    "        self.model = tf.keras.models.load_model(self.config.updated_base_model_path)\n",
    "        self.train_generator = None\n",
    "        self.valid_generator = None\n",
    "\n",
    "    def get_base_model(self):\n",
    "        \"\"\"Loads the updated base model from the specified path.\"\"\"\n",
    "        print(\"Loading the updated and compiled base model for training...\")\n",
    "        self.model = tf.keras.models.load_model(\n",
    "            self.config.updated_base_model_path\n",
    "        )\n",
    "\n",
    "    def train_valid_generator(self):\n",
    "        \"\"\"Creates training and validation data generators.\"\"\"\n",
    "        datagenerator_kwargs = dict(\n",
    "            rescale=1./255,\n",
    "            validation_split=0.20\n",
    "        )\n",
    "\n",
    "        dataflow_kwargs = dict(\n",
    "            target_size=self.config.params_image_size[:-1],\n",
    "            batch_size=self.config.params_batch_size,\n",
    "            class_mode='categorical'\n",
    "        )\n",
    "\n",
    "        valid_datagenerator = tf.keras.preprocessing.image.ImageDataGenerator(**datagenerator_kwargs)\n",
    "        self.valid_generator = valid_datagenerator.flow_from_directory(\n",
    "            directory=self.config.training_data,\n",
    "            subset=\"validation\",\n",
    "            shuffle=False,\n",
    "            **dataflow_kwargs\n",
    "        )\n",
    "\n",
    "        if self.config.params_is_augmentation:\n",
    "            train_datagenerator = tf.keras.preprocessing.image.ImageDataGenerator(\n",
    "                rotation_range=20,\n",
    "                shear_range=0.1,\n",
    "                zoom_range=0.2,\n",
    "                horizontal_flip=True,\n",
    "                **datagenerator_kwargs\n",
    "            )\n",
    "        else:\n",
    "            train_datagenerator = tf.keras.preprocessing.image.ImageDataGenerator(**datagenerator_kwargs)\n",
    "\n",
    "        self.train_generator = train_datagenerator.flow_from_directory(\n",
    "            directory=self.config.training_data,\n",
    "            subset=\"training\",\n",
    "            shuffle=True,\n",
    "            **dataflow_kwargs\n",
    "        )\n",
    "\n",
    "    @staticmethod\n",
    "    def _save_model(path: Path, model: tf.keras.Model):\n",
    "        model.save(path)\n",
    "        print(f\"Final trained model saved to: {path}\")\n",
    "\n",
    "    def train(self):\n",
    "        \"\"\"Executes the final model training loop.\"\"\"\n",
    "        steps_per_epoch = self.train_generator.samples // self.train_generator.batch_size\n",
    "        validation_steps = self.valid_generator.samples // self.valid_generator.batch_size\n",
    "\n",
    "        print(\"--- Starting Final Model Training ---\")\n",
    "        self.model.compile(\n",
    "            optimizer=tf.keras.optimizers.Adam(learning_rate=self.config.params_learning_rate),\n",
    "            loss='categorical_crossentropy',\n",
    "            metrics=['accuracy']\n",
    "        )\n",
    "        self.model.fit(\n",
    "            self.train_generator,\n",
    "            epochs=self.config.params_epochs,\n",
    "            steps_per_epoch=steps_per_epoch,\n",
    "            validation_data=self.valid_generator,\n",
    "            validation_steps=validation_steps\n",
    "        )\n",
    "\n",
    "        self._save_model(\n",
    "            path=self.config.trained_model_path,\n",
    "            model=self.model\n",
    "        )"
   ]
  },
  {
   "cell_type": "code",
   "execution_count": 54,
   "id": "70cb3d6e",
   "metadata": {},
   "outputs": [
    {
     "name": "stdout",
     "output_type": "stream",
     "text": [
      "[Thu, 03 Jul 2025 23:34:31: INFO: common: Loading Yaml file succesfully.]\n",
      "[Thu, 03 Jul 2025 23:34:31: INFO: common: Loading Yaml file succesfully.]\n",
      "[Thu, 03 Jul 2025 23:34:31: INFO: common: Directory created at: artifacts]\n",
      "[Thu, 03 Jul 2025 23:34:31: INFO: common: Directory created at: artifacts\\training]\n",
      "[Thu, 03 Jul 2025 23:34:31: WARNING: saving_utils: Compiled the loaded model, but the compiled metrics have yet to be built. `model.compile_metrics` will be empty until you train or evaluate the model.]\n",
      "Loading the updated and compiled base model for training...\n",
      "[Thu, 03 Jul 2025 23:34:31: WARNING: saving_utils: Compiled the loaded model, but the compiled metrics have yet to be built. `model.compile_metrics` will be empty until you train or evaluate the model.]\n",
      "Found 2487 images belonging to 4 classes.\n",
      "Found 9959 images belonging to 4 classes.\n",
      "--- Starting Final Model Training ---\n",
      "Epoch 1/5\n",
      "\u001b[1m311/311\u001b[0m \u001b[32m━━━━━━━━━━━━━━━━━━━━\u001b[0m\u001b[37m\u001b[0m \u001b[1m5050s\u001b[0m 16s/step - accuracy: 0.6783 - loss: 6.0938 - val_accuracy: 0.6262 - val_loss: 6.6916\n",
      "Epoch 2/5\n",
      "\u001b[1m311/311\u001b[0m \u001b[32m━━━━━━━━━━━━━━━━━━━━\u001b[0m\u001b[37m\u001b[0m \u001b[1m241s\u001b[0m 734ms/step - accuracy: 0.9375 - loss: 0.5245 - val_accuracy: 0.6128 - val_loss: 6.7629\n",
      "Epoch 3/5\n",
      "\u001b[1m311/311\u001b[0m \u001b[32m━━━━━━━━━━━━━━━━━━━━\u001b[0m\u001b[37m\u001b[0m \u001b[1m4097s\u001b[0m 13s/step - accuracy: 0.8918 - loss: 0.9108 - val_accuracy: 0.6132 - val_loss: 9.4432\n",
      "Epoch 4/5\n",
      "\u001b[1m311/311\u001b[0m \u001b[32m━━━━━━━━━━━━━━━━━━━━\u001b[0m\u001b[37m\u001b[0m \u001b[1m258s\u001b[0m 788ms/step - accuracy: 0.9062 - loss: 1.4846 - val_accuracy: 0.6266 - val_loss: 9.2359\n",
      "Epoch 5/5\n",
      "\u001b[1m311/311\u001b[0m \u001b[32m━━━━━━━━━━━━━━━━━━━━\u001b[0m\u001b[37m\u001b[0m \u001b[1m25125s\u001b[0m 81s/step - accuracy: 0.9526 - loss: 0.3698 - val_accuracy: 0.6307 - val_loss: 11.4445\n",
      "Final trained model saved to: artifacts\\training\\model.keras\n"
     ]
    }
   ],
   "source": [
    "\n",
    "try:\n",
    "    config = ConfigurationManager()\n",
    "    training_config = config.get_training_config()\n",
    "    training = Training(config=training_config)\n",
    "    training.get_base_model()\n",
    "    training.train_valid_generator()\n",
    "    training.train()\n",
    "    \n",
    "    \n",
    "except Exception as e:\n",
    "    raise e"
   ]
  },
  {
   "cell_type": "code",
   "execution_count": 55,
   "id": "5fc003d6",
   "metadata": {},
   "outputs": [],
   "source": [
    "# import sys\n",
    "# import tensorflow\n",
    "# import keras\n",
    "\n",
    "# print(\"--- KERNEL ENVIRONMENT DIAGNOSTICS ---\")\n",
    "# print(f\"Python Executable: {sys.executable}\")\n",
    "# print(f\"TensorFlow Version: {tensorflow.__version__}\")\n",
    "# print(f\"Keras Version: {keras.__version__}\")\n",
    "# print(\"------------------------------------\")"
   ]
  }
 ],
 "metadata": {
  "kernelspec": {
   "display_name": "Python 3",
   "language": "python",
   "name": "python3"
  },
  "language_info": {
   "codemirror_mode": {
    "name": "ipython",
    "version": 3
   },
   "file_extension": ".py",
   "mimetype": "text/x-python",
   "name": "python",
   "nbconvert_exporter": "python",
   "pygments_lexer": "ipython3",
   "version": "3.11.13"
  }
 },
 "nbformat": 4,
 "nbformat_minor": 5
}
